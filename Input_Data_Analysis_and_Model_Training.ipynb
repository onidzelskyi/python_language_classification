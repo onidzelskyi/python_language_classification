{
 "cells": [
  {
   "cell_type": "code",
   "execution_count": 1,
   "metadata": {
    "collapsed": true
   },
   "outputs": [],
   "source": [
    "# Import required libraries\n",
    "import pandas as pd\n",
    "\n",
    "from sklearn.model_selection import train_test_split\n",
    "\n",
    "import pylangkit.naive_bayes as nb"
   ]
  },
  {
   "cell_type": "code",
   "execution_count": 2,
   "metadata": {
    "collapsed": true
   },
   "outputs": [],
   "source": [
    "# Read input data\n",
    "df = pd.read_csv('resources/lang_data.csv')"
   ]
  },
  {
   "cell_type": "code",
   "execution_count": 3,
   "metadata": {
    "collapsed": false
   },
   "outputs": [
    {
     "name": "stdout",
     "output_type": "stream",
     "text": [
      "<class 'pandas.core.frame.DataFrame'>\n",
      "RangeIndex: 2839 entries, 0 to 2838\n",
      "Data columns (total 2 columns):\n",
      "text        2761 non-null object\n",
      "language    2839 non-null object\n",
      "dtypes: object(2)\n",
      "memory usage: 44.4+ KB\n"
     ]
    }
   ],
   "source": [
    "# Show data' statistics\n",
    "# Statistics shown that there exists some empty data in text column\n",
    "df.info()"
   ]
  },
  {
   "cell_type": "code",
   "execution_count": 4,
   "metadata": {
    "collapsed": false
   },
   "outputs": [
    {
     "data": {
      "text/html": [
       "<div>\n",
       "<table border=\"1\" class=\"dataframe\">\n",
       "  <thead>\n",
       "    <tr style=\"text-align: right;\">\n",
       "      <th></th>\n",
       "      <th>text</th>\n",
       "      <th>language</th>\n",
       "    </tr>\n",
       "  </thead>\n",
       "  <tbody>\n",
       "    <tr>\n",
       "      <th>7</th>\n",
       "      <td>NaN</td>\n",
       "      <td>Afrikaans</td>\n",
       "    </tr>\n",
       "    <tr>\n",
       "      <th>11</th>\n",
       "      <td>NaN</td>\n",
       "      <td>Afrikaans</td>\n",
       "    </tr>\n",
       "    <tr>\n",
       "      <th>17</th>\n",
       "      <td>NaN</td>\n",
       "      <td>Afrikaans</td>\n",
       "    </tr>\n",
       "    <tr>\n",
       "      <th>51</th>\n",
       "      <td>NaN</td>\n",
       "      <td>Nederlands</td>\n",
       "    </tr>\n",
       "    <tr>\n",
       "      <th>70</th>\n",
       "      <td>NaN</td>\n",
       "      <td>English</td>\n",
       "    </tr>\n",
       "    <tr>\n",
       "      <th>96</th>\n",
       "      <td>NaN</td>\n",
       "      <td>English</td>\n",
       "    </tr>\n",
       "    <tr>\n",
       "      <th>107</th>\n",
       "      <td>NaN</td>\n",
       "      <td>Afrikaans</td>\n",
       "    </tr>\n",
       "    <tr>\n",
       "      <th>116</th>\n",
       "      <td>NaN</td>\n",
       "      <td>English</td>\n",
       "    </tr>\n",
       "    <tr>\n",
       "      <th>120</th>\n",
       "      <td>NaN</td>\n",
       "      <td>Afrikaans</td>\n",
       "    </tr>\n",
       "    <tr>\n",
       "      <th>187</th>\n",
       "      <td>NaN</td>\n",
       "      <td>Afrikaans</td>\n",
       "    </tr>\n",
       "    <tr>\n",
       "      <th>206</th>\n",
       "      <td>NaN</td>\n",
       "      <td>Afrikaans</td>\n",
       "    </tr>\n",
       "    <tr>\n",
       "      <th>209</th>\n",
       "      <td>NaN</td>\n",
       "      <td>Afrikaans</td>\n",
       "    </tr>\n",
       "    <tr>\n",
       "      <th>236</th>\n",
       "      <td>NaN</td>\n",
       "      <td>Nederlands</td>\n",
       "    </tr>\n",
       "    <tr>\n",
       "      <th>279</th>\n",
       "      <td>NaN</td>\n",
       "      <td>Afrikaans</td>\n",
       "    </tr>\n",
       "    <tr>\n",
       "      <th>312</th>\n",
       "      <td>NaN</td>\n",
       "      <td>Afrikaans</td>\n",
       "    </tr>\n",
       "    <tr>\n",
       "      <th>329</th>\n",
       "      <td>NaN</td>\n",
       "      <td>English</td>\n",
       "    </tr>\n",
       "    <tr>\n",
       "      <th>371</th>\n",
       "      <td>NaN</td>\n",
       "      <td>Afrikaans</td>\n",
       "    </tr>\n",
       "    <tr>\n",
       "      <th>451</th>\n",
       "      <td>NaN</td>\n",
       "      <td>English</td>\n",
       "    </tr>\n",
       "    <tr>\n",
       "      <th>478</th>\n",
       "      <td>NaN</td>\n",
       "      <td>Afrikaans</td>\n",
       "    </tr>\n",
       "    <tr>\n",
       "      <th>539</th>\n",
       "      <td>NaN</td>\n",
       "      <td>English</td>\n",
       "    </tr>\n",
       "    <tr>\n",
       "      <th>656</th>\n",
       "      <td>NaN</td>\n",
       "      <td>Nederlands</td>\n",
       "    </tr>\n",
       "    <tr>\n",
       "      <th>700</th>\n",
       "      <td>NaN</td>\n",
       "      <td>Nederlands</td>\n",
       "    </tr>\n",
       "    <tr>\n",
       "      <th>711</th>\n",
       "      <td>NaN</td>\n",
       "      <td>English</td>\n",
       "    </tr>\n",
       "    <tr>\n",
       "      <th>864</th>\n",
       "      <td>NaN</td>\n",
       "      <td>Afrikaans</td>\n",
       "    </tr>\n",
       "    <tr>\n",
       "      <th>897</th>\n",
       "      <td>NaN</td>\n",
       "      <td>English</td>\n",
       "    </tr>\n",
       "    <tr>\n",
       "      <th>918</th>\n",
       "      <td>NaN</td>\n",
       "      <td>English</td>\n",
       "    </tr>\n",
       "    <tr>\n",
       "      <th>963</th>\n",
       "      <td>NaN</td>\n",
       "      <td>Afrikaans</td>\n",
       "    </tr>\n",
       "    <tr>\n",
       "      <th>1001</th>\n",
       "      <td>NaN</td>\n",
       "      <td>Afrikaans</td>\n",
       "    </tr>\n",
       "    <tr>\n",
       "      <th>1036</th>\n",
       "      <td>NaN</td>\n",
       "      <td>Nederlands</td>\n",
       "    </tr>\n",
       "    <tr>\n",
       "      <th>1063</th>\n",
       "      <td>NaN</td>\n",
       "      <td>English</td>\n",
       "    </tr>\n",
       "    <tr>\n",
       "      <th>...</th>\n",
       "      <td>...</td>\n",
       "      <td>...</td>\n",
       "    </tr>\n",
       "    <tr>\n",
       "      <th>1708</th>\n",
       "      <td>NaN</td>\n",
       "      <td>English</td>\n",
       "    </tr>\n",
       "    <tr>\n",
       "      <th>1807</th>\n",
       "      <td>NaN</td>\n",
       "      <td>Nederlands</td>\n",
       "    </tr>\n",
       "    <tr>\n",
       "      <th>1844</th>\n",
       "      <td>NaN</td>\n",
       "      <td>English</td>\n",
       "    </tr>\n",
       "    <tr>\n",
       "      <th>1866</th>\n",
       "      <td>NaN</td>\n",
       "      <td>Afrikaans</td>\n",
       "    </tr>\n",
       "    <tr>\n",
       "      <th>1890</th>\n",
       "      <td>NaN</td>\n",
       "      <td>Afrikaans</td>\n",
       "    </tr>\n",
       "    <tr>\n",
       "      <th>1899</th>\n",
       "      <td>NaN</td>\n",
       "      <td>Nederlands</td>\n",
       "    </tr>\n",
       "    <tr>\n",
       "      <th>1915</th>\n",
       "      <td>NaN</td>\n",
       "      <td>Nederlands</td>\n",
       "    </tr>\n",
       "    <tr>\n",
       "      <th>1946</th>\n",
       "      <td>NaN</td>\n",
       "      <td>English</td>\n",
       "    </tr>\n",
       "    <tr>\n",
       "      <th>2012</th>\n",
       "      <td>NaN</td>\n",
       "      <td>Nederlands</td>\n",
       "    </tr>\n",
       "    <tr>\n",
       "      <th>2024</th>\n",
       "      <td>NaN</td>\n",
       "      <td>Afrikaans</td>\n",
       "    </tr>\n",
       "    <tr>\n",
       "      <th>2036</th>\n",
       "      <td>NaN</td>\n",
       "      <td>Nederlands</td>\n",
       "    </tr>\n",
       "    <tr>\n",
       "      <th>2106</th>\n",
       "      <td>NaN</td>\n",
       "      <td>Afrikaans</td>\n",
       "    </tr>\n",
       "    <tr>\n",
       "      <th>2165</th>\n",
       "      <td>NaN</td>\n",
       "      <td>English</td>\n",
       "    </tr>\n",
       "    <tr>\n",
       "      <th>2185</th>\n",
       "      <td>NaN</td>\n",
       "      <td>English</td>\n",
       "    </tr>\n",
       "    <tr>\n",
       "      <th>2239</th>\n",
       "      <td>NaN</td>\n",
       "      <td>Afrikaans</td>\n",
       "    </tr>\n",
       "    <tr>\n",
       "      <th>2321</th>\n",
       "      <td>NaN</td>\n",
       "      <td>Nederlands</td>\n",
       "    </tr>\n",
       "    <tr>\n",
       "      <th>2442</th>\n",
       "      <td>NaN</td>\n",
       "      <td>Nederlands</td>\n",
       "    </tr>\n",
       "    <tr>\n",
       "      <th>2490</th>\n",
       "      <td>NaN</td>\n",
       "      <td>Afrikaans</td>\n",
       "    </tr>\n",
       "    <tr>\n",
       "      <th>2538</th>\n",
       "      <td>NaN</td>\n",
       "      <td>Nederlands</td>\n",
       "    </tr>\n",
       "    <tr>\n",
       "      <th>2547</th>\n",
       "      <td>NaN</td>\n",
       "      <td>Afrikaans</td>\n",
       "    </tr>\n",
       "    <tr>\n",
       "      <th>2564</th>\n",
       "      <td>NaN</td>\n",
       "      <td>Nederlands</td>\n",
       "    </tr>\n",
       "    <tr>\n",
       "      <th>2594</th>\n",
       "      <td>NaN</td>\n",
       "      <td>Nederlands</td>\n",
       "    </tr>\n",
       "    <tr>\n",
       "      <th>2598</th>\n",
       "      <td>NaN</td>\n",
       "      <td>Nederlands</td>\n",
       "    </tr>\n",
       "    <tr>\n",
       "      <th>2606</th>\n",
       "      <td>NaN</td>\n",
       "      <td>English</td>\n",
       "    </tr>\n",
       "    <tr>\n",
       "      <th>2615</th>\n",
       "      <td>NaN</td>\n",
       "      <td>Afrikaans</td>\n",
       "    </tr>\n",
       "    <tr>\n",
       "      <th>2639</th>\n",
       "      <td>NaN</td>\n",
       "      <td>Nederlands</td>\n",
       "    </tr>\n",
       "    <tr>\n",
       "      <th>2660</th>\n",
       "      <td>NaN</td>\n",
       "      <td>Afrikaans</td>\n",
       "    </tr>\n",
       "    <tr>\n",
       "      <th>2676</th>\n",
       "      <td>NaN</td>\n",
       "      <td>Nederlands</td>\n",
       "    </tr>\n",
       "    <tr>\n",
       "      <th>2802</th>\n",
       "      <td>NaN</td>\n",
       "      <td>English</td>\n",
       "    </tr>\n",
       "    <tr>\n",
       "      <th>2813</th>\n",
       "      <td>NaN</td>\n",
       "      <td>Afrikaans</td>\n",
       "    </tr>\n",
       "  </tbody>\n",
       "</table>\n",
       "<p>78 rows × 2 columns</p>\n",
       "</div>"
      ],
      "text/plain": [
       "     text    language\n",
       "7     NaN   Afrikaans\n",
       "11    NaN   Afrikaans\n",
       "17    NaN   Afrikaans\n",
       "51    NaN  Nederlands\n",
       "70    NaN     English\n",
       "96    NaN     English\n",
       "107   NaN   Afrikaans\n",
       "116   NaN     English\n",
       "120   NaN   Afrikaans\n",
       "187   NaN   Afrikaans\n",
       "206   NaN   Afrikaans\n",
       "209   NaN   Afrikaans\n",
       "236   NaN  Nederlands\n",
       "279   NaN   Afrikaans\n",
       "312   NaN   Afrikaans\n",
       "329   NaN     English\n",
       "371   NaN   Afrikaans\n",
       "451   NaN     English\n",
       "478   NaN   Afrikaans\n",
       "539   NaN     English\n",
       "656   NaN  Nederlands\n",
       "700   NaN  Nederlands\n",
       "711   NaN     English\n",
       "864   NaN   Afrikaans\n",
       "897   NaN     English\n",
       "918   NaN     English\n",
       "963   NaN   Afrikaans\n",
       "1001  NaN   Afrikaans\n",
       "1036  NaN  Nederlands\n",
       "1063  NaN     English\n",
       "...   ...         ...\n",
       "1708  NaN     English\n",
       "1807  NaN  Nederlands\n",
       "1844  NaN     English\n",
       "1866  NaN   Afrikaans\n",
       "1890  NaN   Afrikaans\n",
       "1899  NaN  Nederlands\n",
       "1915  NaN  Nederlands\n",
       "1946  NaN     English\n",
       "2012  NaN  Nederlands\n",
       "2024  NaN   Afrikaans\n",
       "2036  NaN  Nederlands\n",
       "2106  NaN   Afrikaans\n",
       "2165  NaN     English\n",
       "2185  NaN     English\n",
       "2239  NaN   Afrikaans\n",
       "2321  NaN  Nederlands\n",
       "2442  NaN  Nederlands\n",
       "2490  NaN   Afrikaans\n",
       "2538  NaN  Nederlands\n",
       "2547  NaN   Afrikaans\n",
       "2564  NaN  Nederlands\n",
       "2594  NaN  Nederlands\n",
       "2598  NaN  Nederlands\n",
       "2606  NaN     English\n",
       "2615  NaN   Afrikaans\n",
       "2639  NaN  Nederlands\n",
       "2660  NaN   Afrikaans\n",
       "2676  NaN  Nederlands\n",
       "2802  NaN     English\n",
       "2813  NaN   Afrikaans\n",
       "\n",
       "[78 rows x 2 columns]"
      ]
     },
     "execution_count": 4,
     "metadata": {},
     "output_type": "execute_result"
    }
   ],
   "source": [
    "# Display empty samples (78 entries)\n",
    "df[df.text.isnull()]"
   ]
  },
  {
   "cell_type": "code",
   "execution_count": 5,
   "metadata": {
    "collapsed": true
   },
   "outputs": [],
   "source": [
    "# Remove emtpy samples\n",
    "df.dropna(inplace=True)"
   ]
  },
  {
   "cell_type": "code",
   "execution_count": 6,
   "metadata": {
    "collapsed": false
   },
   "outputs": [
    {
     "name": "stdout",
     "output_type": "stream",
     "text": [
      "<class 'pandas.core.frame.DataFrame'>\n",
      "Int64Index: 2761 entries, 0 to 2838\n",
      "Data columns (total 2 columns):\n",
      "text        2761 non-null object\n",
      "language    2761 non-null object\n",
      "dtypes: object(2)\n",
      "memory usage: 64.7+ KB\n"
     ]
    }
   ],
   "source": [
    "# So far we have a dataset, preperred for further processing, \n",
    "# e.g. training language classifying model\n",
    "df.info()"
   ]
  },
  {
   "cell_type": "code",
   "execution_count": 7,
   "metadata": {
    "collapsed": false
   },
   "outputs": [
    {
     "data": {
      "text/plain": [
       "English       2055\n",
       "Afrikaans      639\n",
       "Nederlands      67\n",
       "Name: language, dtype: int64"
      ]
     },
     "execution_count": 7,
     "metadata": {},
     "output_type": "execute_result"
    }
   ],
   "source": [
    "# Show language categories and text distributions over languages\n",
    "df.language.value_counts()"
   ]
  },
  {
   "cell_type": "code",
   "execution_count": 8,
   "metadata": {
    "collapsed": false
   },
   "outputs": [
    {
     "data": {
      "text/html": [
       "<div>\n",
       "<table border=\"1\" class=\"dataframe\">\n",
       "  <thead>\n",
       "    <tr style=\"text-align: right;\">\n",
       "      <th></th>\n",
       "      <th>text</th>\n",
       "      <th>language</th>\n",
       "    </tr>\n",
       "  </thead>\n",
       "  <tbody>\n",
       "    <tr>\n",
       "      <th>64</th>\n",
       "      <td>Je moet geen oude schoenen weggooien, voordat ...</td>\n",
       "      <td>Nederlands</td>\n",
       "    </tr>\n",
       "    <tr>\n",
       "      <th>93</th>\n",
       "      <td>Wie zaait, zal oogsten.</td>\n",
       "      <td>Nederlands</td>\n",
       "    </tr>\n",
       "    <tr>\n",
       "      <th>119</th>\n",
       "      <td>Wie het eerst komt, het eerst maalt.</td>\n",
       "      <td>Nederlands</td>\n",
       "    </tr>\n",
       "    <tr>\n",
       "      <th>143</th>\n",
       "      <td>Gedane zaken nemen geen keer.</td>\n",
       "      <td>Nederlands</td>\n",
       "    </tr>\n",
       "    <tr>\n",
       "      <th>170</th>\n",
       "      <td>Aan alles komt een eind.</td>\n",
       "      <td>Nederlands</td>\n",
       "    </tr>\n",
       "  </tbody>\n",
       "</table>\n",
       "</div>"
      ],
      "text/plain": [
       "                                                  text    language\n",
       "64   Je moet geen oude schoenen weggooien, voordat ...  Nederlands\n",
       "93                             Wie zaait, zal oogsten.  Nederlands\n",
       "119               Wie het eerst komt, het eerst maalt.  Nederlands\n",
       "143                      Gedane zaken nemen geen keer.  Nederlands\n",
       "170                           Aan alles komt een eind.  Nederlands"
      ]
     },
     "execution_count": 8,
     "metadata": {},
     "output_type": "execute_result"
    }
   ],
   "source": [
    "# Show first 5 rows of dataset for Nederlands language\n",
    "df[df.language == 'Nederlands'].head()"
   ]
  },
  {
   "cell_type": "code",
   "execution_count": null,
   "metadata": {
    "collapsed": false
   },
   "outputs": [],
   "source": [
    "# Split of dataset to train and test (80% train, 20% test)\n",
    "# And save it to the files\n",
    "df_train, df_test = train_test_split(df, test_size = 0.2)\n",
    "\n",
    "df_train.to_csv('resources/lang_data_train.csv', index=False)\n",
    "df_test.to_csv('resources/lang_data_test.csv', index=False)"
   ]
  },
  {
   "cell_type": "code",
   "execution_count": 9,
   "metadata": {
    "collapsed": true
   },
   "outputs": [],
   "source": [
    "# Or, load preperred datasets from file.\n",
    "df_train = pd.read_csv('resources/lang_data_train.csv')\n",
    "df_test = pd.read_csv('resources/lang_data_test.csv')"
   ]
  },
  {
   "cell_type": "code",
   "execution_count": 10,
   "metadata": {
    "collapsed": false
   },
   "outputs": [
    {
     "name": "stdout",
     "output_type": "stream",
     "text": [
      "Train\n",
      "English       1656\n",
      "Afrikaans      498\n",
      "Nederlands      54\n",
      "Name: language, dtype: int64\n",
      "\n",
      "Test\n",
      "English       399\n",
      "Afrikaans     141\n",
      "Nederlands     13\n",
      "Name: language, dtype: int64\n"
     ]
    }
   ],
   "source": [
    "# See if we distribute all languages properly over train and test sets\n",
    "# e.g. for Nederlands language we have text data in both train and test sets\n",
    "print('Train\\n{}\\n\\nTest\\n{}'.format(df_train.language.value_counts(), df_test.language.value_counts()))"
   ]
  },
  {
   "cell_type": "code",
   "execution_count": 11,
   "metadata": {
    "collapsed": false
   },
   "outputs": [],
   "source": [
    "# Create a model\n",
    "model = nb.NaiveBayes()"
   ]
  },
  {
   "cell_type": "code",
   "execution_count": 12,
   "metadata": {
    "collapsed": false
   },
   "outputs": [],
   "source": [
    "# Train model\n",
    "# and save trained model on disk\n",
    "# model.fit(df_train.as_matrix())\n",
    "# model.dump_model('trained_model.pickle')\n",
    "\n",
    "# Or load trainded model from file\n",
    "model.load_model('resources/trained_model.pickle')"
   ]
  },
  {
   "cell_type": "code",
   "execution_count": 13,
   "metadata": {
    "collapsed": false
   },
   "outputs": [
    {
     "data": {
      "text/html": [
       "<div>\n",
       "<table border=\"1\" class=\"dataframe\">\n",
       "  <thead>\n",
       "    <tr style=\"text-align: right;\">\n",
       "      <th></th>\n",
       "      <th>text</th>\n",
       "      <th>predicted</th>\n",
       "      <th>actual</th>\n",
       "    </tr>\n",
       "  </thead>\n",
       "  <tbody>\n",
       "    <tr>\n",
       "      <th>30</th>\n",
       "      <td>Schijn bedriegt.</td>\n",
       "      <td>Afrikaans</td>\n",
       "      <td>Nederlands</td>\n",
       "    </tr>\n",
       "    <tr>\n",
       "      <th>45</th>\n",
       "      <td>Het is niet al goud wat blinkt.</td>\n",
       "      <td>Afrikaans</td>\n",
       "      <td>Nederlands</td>\n",
       "    </tr>\n",
       "    <tr>\n",
       "      <th>186</th>\n",
       "      <td>Misdaad loont niet.</td>\n",
       "      <td>Afrikaans</td>\n",
       "      <td>Nederlands</td>\n",
       "    </tr>\n",
       "    <tr>\n",
       "      <th>259</th>\n",
       "      <td>Soort zoekt soort.</td>\n",
       "      <td>Afrikaans</td>\n",
       "      <td>Nederlands</td>\n",
       "    </tr>\n",
       "    <tr>\n",
       "      <th>311</th>\n",
       "      <td>Oude liefde roest niet.</td>\n",
       "      <td>Afrikaans</td>\n",
       "      <td>Nederlands</td>\n",
       "    </tr>\n",
       "    <tr>\n",
       "      <th>371</th>\n",
       "      <td>Wie het eerst komt, het eerst maalt.</td>\n",
       "      <td>Afrikaans</td>\n",
       "      <td>Nederlands</td>\n",
       "    </tr>\n",
       "    <tr>\n",
       "      <th>407</th>\n",
       "      <td>Geen woorden maar daden.</td>\n",
       "      <td>Afrikaans</td>\n",
       "      <td>Nederlands</td>\n",
       "    </tr>\n",
       "    <tr>\n",
       "      <th>517</th>\n",
       "      <td>Een gewaarschuwd mens telt voor twee.</td>\n",
       "      <td>Afrikaans</td>\n",
       "      <td>Nederlands</td>\n",
       "    </tr>\n",
       "  </tbody>\n",
       "</table>\n",
       "</div>"
      ],
      "text/plain": [
       "                                      text  predicted      actual\n",
       "30                        Schijn bedriegt.  Afrikaans  Nederlands\n",
       "45         Het is niet al goud wat blinkt.  Afrikaans  Nederlands\n",
       "186                    Misdaad loont niet.  Afrikaans  Nederlands\n",
       "259                     Soort zoekt soort.  Afrikaans  Nederlands\n",
       "311                Oude liefde roest niet.  Afrikaans  Nederlands\n",
       "371   Wie het eerst komt, het eerst maalt.  Afrikaans  Nederlands\n",
       "407               Geen woorden maar daden.  Afrikaans  Nederlands\n",
       "517  Een gewaarschuwd mens telt voor twee.  Afrikaans  Nederlands"
      ]
     },
     "execution_count": 13,
     "metadata": {},
     "output_type": "execute_result"
    }
   ],
   "source": [
    "# Make prediction and print out misclassified text samples\n",
    "predicted = model.classify(df_test.text.as_matrix())\n",
    "\n",
    "df = pd.DataFrame(list(map(lambda x: (x[0][0], x[0][1], x[1],), zip(predicted, df_test.language))), \n",
    "                 columns=['text', 'predicted', 'actual'])\n",
    "df.loc[df.predicted != df.actual]"
   ]
  },
  {
   "cell_type": "markdown",
   "metadata": {},
   "source": [
    "Evaluation\n",
    "=========="
   ]
  },
  {
   "cell_type": "code",
   "execution_count": 14,
   "metadata": {
    "collapsed": false
   },
   "outputs": [
    {
     "data": {
      "text/plain": [
       "array([[399,   0,   0],\n",
       "       [  0, 141,   0],\n",
       "       [  0,   8,   5]])"
      ]
     },
     "execution_count": 14,
     "metadata": {},
     "output_type": "execute_result"
    }
   ],
   "source": [
    "# Confusion matrix\n",
    "from sklearn.metrics import confusion_matrix\n",
    "\n",
    "\n",
    "y_true = df_test.language\n",
    "y_predicted = list(map(lambda x: x[1], predicted))\n",
    "confusion_matrix(y_true, y_predicted, labels=['English', 'Afrikaans', 'Nederlands'])"
   ]
  },
  {
   "cell_type": "code",
   "execution_count": 16,
   "metadata": {
    "collapsed": false
   },
   "outputs": [
    {
     "data": {
      "image/png": "[encoded data removed]",
      "text/plain": [
       "<matplotlib.figure.Figure at 0x10aed2470>"
      ]
     },
     "metadata": {},
     "output_type": "display_data"
    }
   ],
   "source": [
    "# Precision, Recall, ROC\n",
    "import numpy as np\n",
    "from sklearn.metrics import roc_curve, auc\n",
    "\n",
    "\n",
    "mapped_values = dict(English=0, Afrikaans=1, Nederlands=2)\n",
    "y_true = np.array(df_test.language.map(mapped_values).values, dtype=float)\n",
    "y_predicted = np.array([mapped_values[x[1]] for x in predicted], dtype=float)\n",
    "\n",
    "false_positive_rate, true_positive_rate, thresholds = roc_curve(y_true, y_predicted, pos_label=True)\n",
    "roc_auc = auc(false_positive_rate, true_positive_rate)\n",
    "\n",
    "\n",
    "import matplotlib.pyplot as plt\n",
    "%matplotlib inline\n",
    "\n",
    "plt.title('Receiver Operating Characteristic')\n",
    "plt.plot(false_positive_rate, true_positive_rate, 'b',\n",
    "label='AUC = %0.2f'% roc_auc)\n",
    "plt.legend(loc='lower right')\n",
    "plt.plot([0,1],[0,1],'r--')\n",
    "plt.xlim([-0.1,1.2])\n",
    "plt.ylim([-0.1,1.2])\n",
    "plt.ylabel('True Positive Rate')\n",
    "plt.xlabel('False Positive Rate')\n",
    "plt.show()"
   ]
  },
  {
   "cell_type": "code",
   "execution_count": 17,
   "metadata": {
    "collapsed": false
   },
   "outputs": [
    {
     "name": "stdout",
     "output_type": "stream",
     "text": [
      "             precision    recall  f1-score   support\n",
      "\n",
      "        0.0       1.00      1.00      1.00       399\n",
      "        1.0       0.95      1.00      0.97       141\n",
      "        2.0       1.00      0.38      0.56        13\n",
      "\n",
      "avg / total       0.99      0.99      0.98       553\n",
      "\n"
     ]
    }
   ],
   "source": [
    "# Classification report\n",
    "from sklearn.metrics import classification_report\n",
    "\n",
    "print(classification_report(y_true, y_predicted))"
   ]
  }
 ],
 "metadata": {
  "kernelspec": {
   "display_name": "Python 3",
   "language": "python",
   "name": "python3"
  },
  "language_info": {
   "codemirror_mode": {
    "name": "ipython",
    "version": 3
   },
   "file_extension": ".py",
   "mimetype": "text/x-python",
   "name": "python",
   "nbconvert_exporter": "python",
   "pygments_lexer": "ipython3",
   "version": "3.5.2"
  }
 },
 "nbformat": 4,
 "nbformat_minor": 2
}
